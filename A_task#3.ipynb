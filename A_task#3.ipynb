{
 "cells": [
  {
   "cell_type": "code",
   "execution_count": 9,
   "metadata": {},
   "outputs": [],
   "source": [
    "from fastapi import FastAPI\n",
    "import json\n",
    "import xml.etree.ElementTree as ET"
   ]
  },
  {
   "cell_type": "code",
   "execution_count": 11,
   "metadata": {},
   "outputs": [],
   "source": [
    "api = FastAPI()\n",
    "def jsonxml_conv(json_obj, root_name='root'):\n",
    "    root = ET.Element(root_name)\n",
    "\n",
    "    def parse_jsonxml(json_arr, parent):\n",
    "        if isinstance(json_arr, dict):\n",
    "            for key, value in json_arr.items():\n",
    "                element = ET.SubElement(parent, key)\n",
    "                parse_jsonxml(value, element)\n",
    "        elif isinstance(json_arr, list):\n",
    "            for item in json_arr:\n",
    "                parse_jsonxml(item, parent)\n",
    "        else:\n",
    "            parent.text = str(json_arr)\n",
    "\n",
    "    parse_jsonxml(json_obj, root)\n",
    "    tree = ET.ElementTree(root)\n",
    "\n",
    "    return ET.tostring(root, encoding=\"unicode\")\n",
    "\n",
    "@api.post(\"/jsonToXml\")\n",
    "async def convert_to_xml(data: dict):\n",
    "    try:\n",
    "        xml_result = jsonxml_conv(data, 'data')\n",
    "        return {\"xml_data\": xml_result}\n",
    "    except Exception as e:\n",
    "        return {\"error\": f\"Internal Server Error: {e}\"}"
   ]
  },
  {
   "cell_type": "code",
   "execution_count": null,
   "metadata": {},
   "outputs": [],
   "source": []
  }
 ],
 "metadata": {
  "kernelspec": {
   "display_name": "Python 3",
   "language": "python",
   "name": "python3"
  },
  "language_info": {
   "codemirror_mode": {
    "name": "ipython",
    "version": 3
   },
   "file_extension": ".py",
   "mimetype": "text/x-python",
   "name": "python",
   "nbconvert_exporter": "python",
   "pygments_lexer": "ipython3",
   "version": "3.8.3"
  }
 },
 "nbformat": 4,
 "nbformat_minor": 4
}
