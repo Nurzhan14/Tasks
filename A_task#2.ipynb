{
 "cells": [
  {
   "cell_type": "code",
   "execution_count": 8,
   "metadata": {},
   "outputs": [],
   "source": [
    "from selenium import webdriver\n",
    "import pandas as pd\n",
    "from selenium.webdriver.common.by import By\n",
    "from openpyxl import Workbook\n",
    "import time\n",
    "from selenium.webdriver.support.ui import WebDriverWait\n",
    "from selenium.webdriver.support import expected_conditions as EC\n",
    "from time import sleep\n",
    "from selenium.webdriver.support.select import Select"
   ]
  },
  {
   "cell_type": "code",
   "execution_count": 54,
   "metadata": {},
   "outputs": [],
   "source": [
    "def parse_data(output_file=\"excel_data.xlsx\"):\n",
    "    data_list = []\n",
    "\n",
    "    wb = Workbook()\n",
    "    ws = wb.active\n",
    "    ws.append([\"Наименование организации\", \"БИН организации\", \"ФИО руководителя\", \"ИИН руководителя\", \"Полный адрес организации\"])\n",
    "    #df=pd.DataFrame()\n",
    "    data=[]\n",
    "    unique_records = set()\n",
    "    driver = webdriver.Chrome()\n",
    "    for page in range(1,12):\n",
    "        url = 'https://www.goszakup.gov.kz/ru/registry/rqc?count_record=50&page='+str(page)\n",
    "      \n",
    "        driver.get(url)\n",
    "        sleep(5)\n",
    "   \n",
    "        page_records=driver.find_elements_by_tag_name('td')\n",
    "    \n",
    "        num_columns = 4\n",
    "        current_row = []\n",
    "        #record_values = [record.text for record in page_records]\n",
    "        #print(len(record_values))\n",
    "        #if record_values:\n",
    "    \n",
    "        #elem = driver.find_element_by_tag_name('strong')\n",
    "        #elem.click()\n",
    "        for record in page_records:\n",
    "            current_row.append(record.text)\n",
    "            if len(current_row) == num_columns:\n",
    "                \n",
    "                data_list.append(current_row)\n",
    "                current_row = []\n",
    "\n",
    "    column_names = [\"Номер\", \"Наименование организации\", \"БИН организации\", \"Дополнительная информация\"]\n",
    "        \n",
    "            \n",
    "    df=pd.DataFrame(data_list, columns=column_names)\n",
    "    \n",
    "    df = df.drop_duplicates(subset='БИН организации')\n",
    "    print(df)\n",
    "    \n",
    "    df.to_excel(output_file, index=False, encoding='utf8')\n",
    "\n",
    "\n",
    "    driver.quit()\n"
   ]
  },
  {
   "cell_type": "code",
   "execution_count": 55,
   "metadata": {},
   "outputs": [
    {
     "name": "stderr",
     "output_type": "stream",
     "text": [
      "<ipython-input-54-74de20ed4f0e>:17: DeprecationWarning: find_elements_by_tag_name is deprecated. Please use find_elements(by=By.TAG_NAME, value=name) instead\n",
      "  page_records=driver.find_elements_by_tag_name('td')\n"
     ]
    },
    {
     "name": "stdout",
     "output_type": "stream",
     "text": [
      "    Номер                           Наименование организации БИН организации  \\\n",
      "0     467  Товарищество с ограниченной ответственностью \"...    160540016411   \n",
      "1     502  Товарищество с ограниченной ответственностью\"G...    070540008075   \n",
      "2     517                                    ТОО \"Гражданин\"    090540008881   \n",
      "3     526  Товарищество с ограниченной ответственностью \"...    110740014027   \n",
      "4     528                          ТОО \"KazBioServis-Astana\"    130740024484   \n",
      "..    ...                                                ...             ...   \n",
      "531   694           ТОО \"ЛУКОЙЛ Лубрикантс Центральная Азия\"    130140009588   \n",
      "534   379                           ТОО \"Колганат-Караганда\"    150440024794   \n",
      "535   927                                ТОО \"Альянстелеком\"    060740009178   \n",
      "536   928                                      ТОО \"SoftNet\"    110240019694   \n",
      "537   537  ТОО \"Производственное объединение \"PERSPEKTIVA...    170740013049   \n",
      "\n",
      "          Дополнительная информация  \n",
      "0    115000002, 2099-12-31 00:00:00  \n",
      "1    102000012, 2099-12-31 00:00:00  \n",
      "2                      101 0 00010,  \n",
      "3    102900003, 2019-08-08 10:57:18  \n",
      "4    101000008, 2099-12-31 00:00:00  \n",
      "..                              ...  \n",
      "531  105000025, 2099-12-31 00:00:00  \n",
      "534  110900023, 2019-09-04 00:00:00  \n",
      "535                                  \n",
      "536                                  \n",
      "537  110000021, 2099-12-31 00:00:00  \n",
      "\n",
      "[479 rows x 4 columns]\n"
     ]
    }
   ],
   "source": [
    "parse_data()"
   ]
  }
 ],
 "metadata": {
  "kernelspec": {
   "display_name": "Python 3",
   "language": "python",
   "name": "python3"
  },
  "language_info": {
   "codemirror_mode": {
    "name": "ipython",
    "version": 3
   },
   "file_extension": ".py",
   "mimetype": "text/x-python",
   "name": "python",
   "nbconvert_exporter": "python",
   "pygments_lexer": "ipython3",
   "version": "3.8.3"
  }
 },
 "nbformat": 4,
 "nbformat_minor": 4
}
